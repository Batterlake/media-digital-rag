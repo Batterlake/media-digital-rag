{
 "cells": [
  {
   "cell_type": "code",
   "execution_count": null,
   "metadata": {},
   "outputs": [],
   "source": [
    "%load_ext autoreload\n",
    "%autoreload 2"
   ]
  },
  {
   "cell_type": "code",
   "execution_count": null,
   "metadata": {},
   "outputs": [],
   "source": [
    "import sys\n",
    "\n",
    "sys.path.append(\"..\")\n",
    "\n",
    "from PIL import Image\n",
    "\n",
    "from app.retriever.client import ColpaliClient\n",
    "\n",
    "images = [\"../data/jpeg/0.pdf/page-01.jpg\", \"../data/jpeg/0.pdf/page-02.jpg\"] * 5\n",
    "files = [(\"images\", (image, open(image, \"rb\"))) for image in images]\n",
    "\n",
    "client = ColpaliClient(\"http://localhost:8000\")\n",
    "embeds = client.embed_images(images)\n",
    "embeds.shape"
   ]
  },
  {
   "cell_type": "code",
   "execution_count": null,
   "metadata": {},
   "outputs": [],
   "source": [
    "texts = [\"lol\", \"kek\"]\n",
    "embeds = client.embed_texts(texts)\n",
    "embeds.shape"
   ]
  },
  {
   "cell_type": "code",
   "execution_count": null,
   "metadata": {},
   "outputs": [],
   "source": [
    "import numpy as np\n",
    "\n",
    "image = images[1]\n",
    "heatmap = client.get_heatmap(query=\"Woman\", image=image)"
   ]
  },
  {
   "cell_type": "code",
   "execution_count": null,
   "metadata": {},
   "outputs": [],
   "source": [
    "import matplotlib.pylab as plt\n",
    "\n",
    "img = np.array(Image.open(image))\n",
    "alpha = 0.5\n",
    "heatmap = np.repeat(heatmap * (1 - alpha), 3, -1)\n",
    "img_array = np.array(img) * alpha + heatmap\n",
    "plt.figure(figsize=(10, 10))\n",
    "plt.imshow(img_array.astype(np.uint8))"
   ]
  }
 ],
 "metadata": {
  "kernelspec": {
   "display_name": ".venv",
   "language": "python",
   "name": "python3"
  },
  "language_info": {
   "codemirror_mode": {
    "name": "ipython",
    "version": 3
   },
   "file_extension": ".py",
   "mimetype": "text/x-python",
   "name": "python",
   "nbconvert_exporter": "python",
   "pygments_lexer": "ipython3",
   "version": "3.10.14"
  }
 },
 "nbformat": 4,
 "nbformat_minor": 2
}
