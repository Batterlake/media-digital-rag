{
 "cells": [
  {
   "cell_type": "code",
   "execution_count": 1,
   "metadata": {},
   "outputs": [],
   "source": [
    "%load_ext autoreload\n",
    "%autoreload 2"
   ]
  },
  {
   "cell_type": "code",
   "execution_count": null,
   "metadata": {},
   "outputs": [],
   "source": [
    "dataset_path = \"../data/train_dataset_mediawise_train/Media_Digital\""
   ]
  },
  {
   "cell_type": "code",
   "execution_count": null,
   "metadata": {},
   "outputs": [],
   "source": [
    "import base64\n",
    "\n",
    "from openai import OpenAI"
   ]
  },
  {
   "cell_type": "code",
   "execution_count": null,
   "metadata": {},
   "outputs": [
    {
     "name": "stdout",
     "output_type": "stream",
     "text": [
      "Chat response: ChatCompletion(id='chat-aa62db2420d245aba7ddca8cba539a47', choices=[Choice(finish_reason='stop', index=0, logprobs=None, message=ChatCompletionMessage(content='The text in the image is:\\n\\n\"ТЕХНОЛОГИИ\\nПОД КАПОТОМ\\nСветлана Подлегаева – COO MEDIADESK\"\\n\\nThis translates to:\\n\\n\"TECHNOLOGIES\\nUNDER THE HOOD\\nSvetlana Podlegaeva – COO MEDIADESK\"', refusal=None, role='assistant', audio=None, function_call=None, tool_calls=[]), stop_reason=None)], created=1731098330, model='Qwen2-VL-72B-Instruct-GPTQ-Int4', object='chat.completion', service_tier=None, system_fingerprint=None, usage=CompletionUsage(completion_tokens=75, prompt_tokens=1252, total_tokens=1327, completion_tokens_details=None, prompt_tokens_details=None), prompt_logprobs=None)\n"
     ]
    }
   ],
   "source": [
    "# [pin]\n",
    "\n",
    "# Set OpenAI's API key and API base to use vLLM's API server.\n",
    "openai_api_key = \"pee-pee-poo-poo\"\n",
    "openai_api_base = \"http://ml.n19:6336/v1\"\n",
    "client = OpenAI(\n",
    "    api_key=openai_api_key,\n",
    "    base_url=openai_api_base,\n",
    ")\n",
    "image_path = \"../data/pdfs/0/page-03.jpg\"\n",
    "with open(image_path, \"rb\") as f:\n",
    "    encoded_image = base64.b64encode(f.read())\n",
    "encoded_image_text = encoded_image.decode(\"utf-8\")\n",
    "base64_qwen = f\"data:image;base64,{encoded_image_text}\"\n",
    "chat_response = client.chat.completions.create(\n",
    "    model=\"Qwen2-VL-72B-Instruct-GPTQ-Int4\",\n",
    "    messages=[\n",
    "        {\"role\": \"system\", \"content\": \"You are a helpful assistant.\"},\n",
    "        {\n",
    "            \"role\": \"user\",\n",
    "            \"content\": [\n",
    "                {\n",
    "                    \"type\": \"image_url\",\n",
    "                    \"image_url\": {\"url\": base64_qwen},\n",
    "                },\n",
    "                {\"type\": \"text\", \"text\": \"What is the text in the illustrate?\"},\n",
    "            ],\n",
    "        },\n",
    "    ],\n",
    ")\n",
    "print(\"Chat response:\", chat_response)"
   ]
  },
  {
   "cell_type": "code",
   "execution_count": null,
   "metadata": {},
   "outputs": [],
   "source": []
  }
 ],
 "metadata": {
  "language_info": {
   "name": "python"
  }
 },
 "nbformat": 4,
 "nbformat_minor": 2
}
