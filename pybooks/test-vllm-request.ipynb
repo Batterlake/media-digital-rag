{
 "cells": [
  {
   "cell_type": "code",
   "execution_count": null,
   "metadata": {},
   "outputs": [],
   "source": [
    "%load_ext autoreload\n",
    "%autoreload 2"
   ]
  },
  {
   "cell_type": "code",
   "execution_count": null,
   "metadata": {},
   "outputs": [],
   "source": [
    "import base64\n",
    "\n",
    "from openai import OpenAI"
   ]
  },
  {
   "cell_type": "code",
   "execution_count": null,
   "metadata": {},
   "outputs": [
    {
     "name": "stdout",
     "output_type": "stream",
     "text": [
      "Chat response: ChatCompletion(id='chat-775b176263b144c5afb61d96395f7196', choices=[Choice(finish_reason='stop', index=0, logprobs=None, message=ChatCompletionMessage(content='Yes.', refusal=None, role='assistant', audio=None, function_call=None, tool_calls=[]), stop_reason=None)], created=1731107262, model='Qwen2-VL-72B-Instruct-GPTQ-Int4', object='chat.completion', service_tier=None, system_fingerprint=None, usage=CompletionUsage(completion_tokens=3, prompt_tokens=2486, total_tokens=2489, completion_tokens_details=None, prompt_tokens_details=None), prompt_logprobs=None)\n"
     ]
    }
   ],
   "source": [
    "# [pin]\n",
    "\n",
    "# Set OpenAI's API key and API base to use vLLM's API server.\n",
    "openai_api_key = \"pee-pee-poo-poo\"\n",
    "openai_api_base = \"http://ml.n19:6336/v1\"\n",
    "client = OpenAI(\n",
    "    api_key=openai_api_key,\n",
    "    base_url=openai_api_base,\n",
    ")\n",
    "image_path = \"../data/jpeg/0.pdf/page-01.jpg\"\n",
    "image_path2 = \"../data/jpeg/0.pdf/page-02.jpg\"\n",
    "with open(image_path, \"rb\") as f:\n",
    "    encoded_image = base64.b64encode(f.read())\n",
    "with open(image_path2, \"rb\") as f:\n",
    "    encoded_image2 = base64.b64encode(f.read())\n",
    "encoded_image_text = encoded_image.decode(\"utf-8\")\n",
    "encoded_image_text2 = encoded_image2.decode(\"utf-8\")\n",
    "base64_qwen = f\"data:image;base64,{encoded_image_text}\"\n",
    "base64_qwen2 = f\"data:image;base64,{encoded_image_text2}\"\n",
    "chat_response = client.chat.completions.create(\n",
    "    model=\"Qwen2-VL-72B-Instruct-GPTQ-Int4\",\n",
    "    messages=[\n",
    "        {\"role\": \"system\", \"content\": \"You are a helpful assistant.\"},\n",
    "        {\n",
    "            \"role\": \"user\",\n",
    "            \"content\": [\n",
    "                {\n",
    "                    \"type\": \"image_url\",\n",
    "                    \"image_url\": {\"url\": base64_qwen},\n",
    "                },\n",
    "                {\n",
    "                    \"type\": \"image_url\",\n",
    "                    \"image_url\": {\"url\": base64_qwen2},\n",
    "                },\n",
    "                {\n",
    "                    \"type\": \"text\",\n",
    "                    \"text\": \"Are these images from the same presentation? Answer with a single word: yes or no\",\n",
    "                },\n",
    "            ],\n",
    "        },\n",
    "    ],\n",
    ")\n",
    "print(\"Chat response:\", chat_response)"
   ]
  },
  {
   "cell_type": "code",
   "execution_count": null,
   "metadata": {},
   "outputs": [],
   "source": []
  }
 ],
 "metadata": {
  "language_info": {
   "name": "python"
  }
 },
 "nbformat": 4,
 "nbformat_minor": 2
}
